{
 "cells": [
  {
   "cell_type": "markdown",
   "metadata": {},
   "source": [
    "# Import Libraries"
   ]
  },
  {
   "cell_type": "code",
   "execution_count": 1,
   "metadata": {},
   "outputs": [],
   "source": [
    "import torch"
   ]
  },
  {
   "cell_type": "markdown",
   "metadata": {},
   "source": [
    "# Tensor\n",
    "### Create, Access elements, Type"
   ]
  },
  {
   "cell_type": "code",
   "execution_count": 5,
   "metadata": {},
   "outputs": [
    {
     "name": "stdout",
     "output_type": "stream",
     "text": [
      "One row:\t [1, 2, 3]\n",
      "One element:\t 7\n",
      "Object type:\t <class 'torch.Tensor'>\n",
      "Original shape:\t torch.Size([3, 3])\n",
      "New shape:\t torch.Size([1, 9])\n"
     ]
    }
   ],
   "source": [
    "dd = [\n",
    "[1,2,3],\n",
    "[4,5,6],\n",
    "[7,8,9]]\n",
    "\n",
    "print(\"One row:\\t\", dd[0])\n",
    "print(\"One element:\\t\", dd[2][0])\n",
    "\n",
    "t = torch.tensor(dd)\n",
    "print(\"Object type:\\t\", type(t))"
   ]
  },
  {
   "cell_type": "markdown",
   "metadata": {},
   "source": [
    "# Easy Stuff\n",
    "### Shape, Rank, Axis"
   ]
  },
  {
   "cell_type": "code",
   "execution_count": 9,
   "metadata": {},
   "outputs": [
    {
     "name": "stdout",
     "output_type": "stream",
     "text": [
      "Original shape:\t torch.Size([1, 9])\n",
      "New shape:\t torch.Size([1, 9])\n",
      "Or new shape:\t torch.Size([1, 9])\n",
      "Rank:\t\t 2\n",
      "1st row:\t [1, 2, 3]\n",
      "1st element:\t 7\n"
     ]
    }
   ],
   "source": [
    "# Shape\n",
    "print(\"Original shape:\\t\", t.shape)\n",
    "\n",
    "t = t.reshape(1,9)\n",
    "print(\"New shape:\\t\", t.shape)\n",
    "print(\"Or new shape:\\t\", t.size())\n",
    "\n",
    "# Rank\n",
    "print(\"Rank:\\t\\t\", len(t.shape))\n",
    "\n",
    "# Axis Elements\n",
    "print(\"1st row:\\t\", dd[0])\n",
    "print(\"1st element:\\t\",dd[2][0])"
   ]
  },
  {
   "cell_type": "markdown",
   "metadata": {},
   "source": [
    "# Numpy to PyTorch Tensor\n",
    "### 4 Options (Tensor, tensor, as_tensor, from_numpy)"
   ]
  },
  {
   "cell_type": "code",
   "execution_count": 13,
   "metadata": {},
   "outputs": [
    {
     "name": "stdout",
     "output_type": "stream",
     "text": [
      "Numpy data type:\t <class 'numpy.ndarray'>\n",
      "Tensor:\t\t tensor([1., 2., 3.])\n",
      "tensor:\t\t tensor([1, 2, 3])\n",
      "as_tensor:\t tensor([1, 2, 3])\n",
      "from_numpy:\t tensor([1, 2, 3])\n"
     ]
    }
   ],
   "source": [
    "import numpy as np\n",
    "\n",
    "data = np.array([1,2,3])\n",
    "print(\"Numpy data type:\\t\", type(data))\n",
    "\n",
    "o1 = torch.Tensor(data)\n",
    "o2 = torch.tensor(data)\n",
    "o3 = torch.as_tensor(data)\n",
    "o4 = torch.from_numpy(data)\n",
    "\n",
    "print(\"Tensor:\\t\\t\", o1)\n",
    "print(\"tensor:\\t\\t\", o2)\n",
    "print(\"as_tensor:\\t\", o3)\n",
    "print(\"from_numpy:\\t\", o4)"
   ]
  },
  {
   "cell_type": "markdown",
   "metadata": {},
   "source": [
    "# 4 Options\n",
    "### Shared or copied memory, Numpy and PyTorch"
   ]
  },
  {
   "cell_type": "code",
   "execution_count": 14,
   "metadata": {},
   "outputs": [
    {
     "name": "stdout",
     "output_type": "stream",
     "text": [
      "old: [1 2 3]\n",
      "new: [0 2 3]\n",
      "Tensor:\t\t tensor([1., 2., 3.])\n",
      "tensor:\t\t tensor([1, 2, 3])\n",
      "as_tensor:\t tensor([0, 2, 3])\n",
      "from_numpy:\t tensor([0, 2, 3])\n"
     ]
    }
   ],
   "source": [
    "print('old:', data)\n",
    "data[0] = 0\n",
    "\n",
    "print('new:', data)\n",
    "\n",
    "print(\"Tensor:\\t\\t\", o1)\n",
    "print(\"tensor:\\t\\t\", o2)\n",
    "print(\"as_tensor:\\t\", o3)\n",
    "print(\"from_numpy:\\t\", o4)"
   ]
  },
  {
   "cell_type": "markdown",
   "metadata": {},
   "source": [
    "# Special Tensors\n",
    "### Identity Matrix, 0s, 1s, Random"
   ]
  },
  {
   "cell_type": "code",
   "execution_count": 17,
   "metadata": {},
   "outputs": [
    {
     "name": "stdout",
     "output_type": "stream",
     "text": [
      "Identity matrix:\n",
      " tensor([[1., 0.],\n",
      "        [0., 1.]])\n",
      "\n",
      "0s:\n",
      " tensor([[0., 0.],\n",
      "        [0., 0.]])\n",
      "\n",
      "1s:\n",
      " tensor([[1., 1.],\n",
      "        [1., 1.]])\n",
      "\n",
      "Random:\n",
      " tensor([[0.1506, 0.2569],\n",
      "        [0.4223, 0.2546]])\n"
     ]
    }
   ],
   "source": [
    "print(\"Identity matrix:\\n\", torch.eye(2))\n",
    "print(\"\\n0s:\\n\", torch.zeros([2,2]))\n",
    "print(\"\\n1s:\\n\", torch.ones([2,2]))\n",
    "print(\"\\nRandom:\\n\", torch.rand([2,2]))"
   ]
  },
  {
   "cell_type": "markdown",
   "metadata": {},
   "source": [
    "# Attributes\n",
    "### dtype, GPU/CPU, layout"
   ]
  },
  {
   "cell_type": "code",
   "execution_count": 19,
   "metadata": {},
   "outputs": [
    {
     "name": "stdout",
     "output_type": "stream",
     "text": [
      "Type:\t torch.int64\n",
      "GPU/CPU: cpu\n",
      "Layout:\t torch.strided\n"
     ]
    }
   ],
   "source": [
    "print(\"Type:\\t\", t.dtype)\n",
    "print(\"GPU/CPU:\", t.device)\n",
    "print(\"Layout:\\t\", t.layout)"
   ]
  },
  {
   "cell_type": "markdown",
   "metadata": {},
   "source": [
    "# Advanced Reshaping\n",
    "### Reshape, Squeeze, Unsqueeze, Flatten, Stack, Concatenate"
   ]
  },
  {
   "cell_type": "code",
   "execution_count": 29,
   "metadata": {},
   "outputs": [
    {
     "name": "stdout",
     "output_type": "stream",
     "text": [
      "Reshape\n",
      "tensor([[1., 1.],\n",
      "        [1., 1.],\n",
      "        [2., 2.],\n",
      "        [2., 2.],\n",
      "        [3., 3.],\n",
      "        [3., 3.]])\n",
      "\n",
      "Squeeze\n",
      "tensor([1., 1., 1., 1., 2., 2., 2., 2., 3., 3., 3., 3.])\n",
      "torch.Size([12])\n",
      "\n",
      "Unsqueeze\n",
      "tensor([[1., 1., 1., 1., 2., 2., 2., 2., 3., 3., 3., 3.]])\n",
      "torch.Size([1, 12])\n",
      "\n",
      "Flatten\n",
      "tensor([[1., 1., 1.],\n",
      "        [1., 1., 1.],\n",
      "        [1., 1., 1.],\n",
      "        [1., 1., 1.]])\n",
      "tensor([1., 1., 1., 1., 1., 1., 1., 1., 1., 1., 1., 1.])\n",
      "\n",
      "Stack\n",
      "torch.Size([2, 2, 2])\n",
      "\n",
      "Concatenate\n",
      "torch.Size([4, 2])\n",
      "torch.Size([2, 4])\n"
     ]
    }
   ],
   "source": [
    "\n",
    "t = torch.tensor([\n",
    "[1,1,1,1],\n",
    "[2,2,2,2],\n",
    "[3,3,3,3]\n",
    "], dtype=torch.float32)\n",
    "\n",
    "\n",
    "#Reshape\n",
    "print(\"Reshape\")\n",
    "print(t.reshape(6,2))\n",
    "\n",
    "#Squeeze\n",
    "print(\"\\nSqueeze\")\n",
    "print(t.reshape([1,12]).squeeze())\n",
    "print(t.reshape([1,12]).squeeze().shape)\n",
    "\n",
    "#Unsqueeze\n",
    "print(\"\\nUnsqueeze\")\n",
    "print(t.reshape([1,12]).squeeze().unsqueeze(dim=0))\n",
    "print(t.reshape([1,12]).squeeze().unsqueeze(dim=0).shape)\n",
    "\n",
    "#Flatten\n",
    "print(\"\\nFlatten\")\n",
    "def flatten(t):\n",
    "    t = t.reshape(1, -1)\n",
    "    t = t.squeeze()\n",
    "    return t\n",
    "\n",
    "t = torch.ones(4, 3)\n",
    "print(t)\n",
    "\n",
    "print(flatten(t))\n",
    "\n",
    "\n",
    "t1 = torch.tensor([\n",
    "[1,2],\n",
    "[3,4]\n",
    "])\n",
    "t2 = torch.tensor([\n",
    "[5,6],\n",
    "[7,8]\n",
    "])\n",
    "\n",
    "#Stack\n",
    "print(\"\\nStack\")\n",
    "t = torch.stack((t1, t2))\n",
    "print(t.shape)\n",
    "\n",
    "#Concatenate\n",
    "print(\"\\nConcatenate\")\n",
    "torch.cat((t1, t2), dim=0)\n",
    "torch.cat((t1, t2), dim=1)\n",
    "\n",
    "print(torch.cat((t1, t2), dim=0).shape)\n",
    "print(torch.cat((t1, t2), dim=1).shape)\n"
   ]
  },
  {
   "cell_type": "markdown",
   "metadata": {},
   "source": [
    "# Elementwise operations\n",
    "### Broadcasting"
   ]
  },
  {
   "cell_type": "code",
   "execution_count": 46,
   "metadata": {},
   "outputs": [
    {
     "name": "stdout",
     "output_type": "stream",
     "text": [
      "\n",
      "Basic Math\n",
      "tensor([[ 2.,  7.,  2.],\n",
      "        [ 8.,  2.,  9.],\n",
      "        [ 2., 10.,  2.]])\n",
      "tensor([[-2.,  3., -2.],\n",
      "        [ 4., -2.,  5.],\n",
      "        [-2.,  6., -2.]])\n",
      "tensor([[ 0., 10.,  0.],\n",
      "        [12.,  0., 14.],\n",
      "        [ 0., 16.,  0.]])\n",
      "tensor([[0.0000, 2.5000, 0.0000],\n",
      "        [3.0000, 0.0000, 3.5000],\n",
      "        [0.0000, 4.0000, 0.0000]])\n",
      "\n",
      "Basic Math, built-in\n",
      "tensor([[3., 3.],\n",
      "        [3., 3.]])\n",
      "tensor([[-1., -1.],\n",
      "        [-1., -1.]])\n",
      "tensor([[2., 2.],\n",
      "        [2., 2.]])\n",
      "tensor([[0.5000, 0.5000],\n",
      "        [0.5000, 0.5000]])\n",
      "\n",
      "Slightly Advanced Math\n",
      "tensor([[0., 5., 0.],\n",
      "        [6., 0., 7.],\n",
      "        [0., 8., 0.]])\n",
      "tensor([[0.0000, 2.2361, 0.0000],\n",
      "        [2.4495, 0.0000, 2.6458],\n",
      "        [0.0000, 2.8284, 0.0000]])\n",
      "tensor([[-0., -5., -0.],\n",
      "        [-6., -0., -7.],\n",
      "        [-0., -8., -0.]])\n",
      "tensor([[0., 5., 0.],\n",
      "        [6., 0., 7.],\n",
      "        [0., 8., 0.]])\n",
      "\n",
      "<> Functions\n",
      "tensor([[1, 0, 1],\n",
      "        [0, 1, 0],\n",
      "        [1, 0, 1]], dtype=torch.uint8)\n",
      "tensor([[1, 1, 1],\n",
      "        [1, 1, 1],\n",
      "        [1, 1, 1]], dtype=torch.uint8)\n",
      "tensor([[0, 1, 0],\n",
      "        [1, 0, 1],\n",
      "        [0, 1, 0]], dtype=torch.uint8)\n",
      "tensor([[0, 0, 0],\n",
      "        [0, 0, 0],\n",
      "        [0, 0, 0]], dtype=torch.uint8)\n",
      "tensor([[1, 1, 1],\n",
      "        [1, 1, 1],\n",
      "        [1, 0, 1]], dtype=torch.uint8)\n",
      "\n",
      "What we see...\n",
      "\n",
      "More complicated broadcast\n"
     ]
    }
   ],
   "source": [
    "t = torch.tensor([\n",
    "[0,5,0],\n",
    "[6,0,7],\n",
    "[0,8,0]\n",
    "], dtype=torch.float32)\n",
    "\n",
    "print(\"\\nBasic Math\")\n",
    "print(t + 2)\n",
    "print(t - 2)\n",
    "print(t * 2)\n",
    "print(t / 2)\n",
    "\n",
    "print(\"\\nBasic Math, built-in\")\n",
    "print(t1.add(2))\n",
    "print(t1.sub(2))\n",
    "print(t1.mul(2))\n",
    "print(t1.div(2))\n",
    "\n",
    "\n",
    "print(\"\\nSlightly Advanced Math\")\n",
    "print(t.abs()) \n",
    "print(t.sqrt())\n",
    "print(t.neg())\n",
    "print(t.neg().abs())\n",
    "\n",
    "\n",
    "print(\"\\n<> Functions\")\n",
    "t = torch.tensor([\n",
    "[0,5,0],\n",
    "[6,0,7],\n",
    "[0,8,0]\n",
    "], dtype=torch.float32)\n",
    "\n",
    "print(t.eq(0))\n",
    "print(t.ge(0))\n",
    "print(t.gt(0))\n",
    "print(t.lt(0))\n",
    "print(t.le(7))\n",
    "\n",
    "print(\"\\nWhat we see...\")\n",
    "t1 + 2\n",
    "\n",
    "# print(\"What comp does...\")\n",
    "# print(t1 + torch.tensor(\n",
    "# np.broadcast_to(2, t1.shape)\n",
    "# ,dtype=torch.int64\n",
    "# ))\n",
    "\n",
    "\n",
    "print(\"\\nMore complicated broadcast\")\n",
    "# t1 = torch.tensor([\n",
    "# [1,1],\n",
    "# [1,1]\n",
    "# ], dtype=torch.int32)\n",
    "\n",
    "# t2 = torch.tensor([2,4], \n",
    "#                   dtype=torch.int32)\n",
    "\n",
    "# print(np.broadcast_to(t2.numpy(), t1.shape))\n",
    "\n",
    "# print(t1 + t2)\n"
   ]
  },
  {
   "cell_type": "markdown",
   "metadata": {},
   "source": [
    "# Reduction operations\n",
    "### Max, min, sum, mean, std, prod (different dims)"
   ]
  },
  {
   "cell_type": "code",
   "execution_count": 24,
   "metadata": {},
   "outputs": [
    {
     "name": "stdout",
     "output_type": "stream",
     "text": [
      "tensor(8.)\n",
      "tensor(0.8889)\n",
      "tensor(1.1667)\n",
      "tensor(0.)\n",
      "tensor([6., 6., 6., 6.])\n",
      "tensor([ 4.,  8., 12.])\n",
      "tensor(5.)\n",
      "tensor(11)\n",
      "tensor([1., 0., 0., 2., 0., 3., 3., 0., 4., 0., 0., 5.])\n"
     ]
    }
   ],
   "source": [
    "t = torch.tensor([\n",
    "[0,1,0],\n",
    "[2,0,2],\n",
    "[0,3,0]\n",
    "], dtype=torch.float32)\n",
    "\n",
    "print(t.sum())\n",
    "print(t.mean())\n",
    "print(t.std())\n",
    "print(t.prod())\n",
    "\n",
    "t = torch.tensor([\n",
    "[1,1,1,1],\n",
    "[2,2,2,2],\n",
    "[3,3,3,3]\n",
    "], dtype=torch.float32)\n",
    "\n",
    "print(t.sum(dim=0))\n",
    "print(t.sum(dim=1))\n",
    "\n",
    "t = torch.tensor([\n",
    "[1,0,0,2],\n",
    "[0,3,3,0],\n",
    "[4,0,0,5]\n",
    "], dtype=torch.float32)\n",
    "\n",
    "print(t.max())\n",
    "print(t.argmax())\n",
    "print(t.flatten())\n"
   ]
  },
  {
   "cell_type": "markdown",
   "metadata": {},
   "source": [
    "# Reduction operations\n",
    "### To Python Numpy/List"
   ]
  },
  {
   "cell_type": "code",
   "execution_count": 25,
   "metadata": {},
   "outputs": [
    {
     "data": {
      "text/plain": [
       "array([4., 5., 6.], dtype=float32)"
      ]
     },
     "execution_count": 25,
     "metadata": {},
     "output_type": "execute_result"
    }
   ],
   "source": [
    "t = torch.tensor([\n",
    "[1,2,3],\n",
    "[4,5,6],\n",
    "[7,8,9]\n",
    "], dtype=torch.float32)\n",
    "\n",
    "t.mean()\n",
    "t.mean().item()\n",
    "\n",
    "\n",
    "t.mean(dim=0).tolist()\n",
    "t.mean(dim=0).numpy()\n"
   ]
  },
  {
   "cell_type": "code",
   "execution_count": null,
   "metadata": {},
   "outputs": [],
   "source": []
  }
 ],
 "metadata": {
  "kernelspec": {
   "display_name": "Python [conda env:pytorch_p36]",
   "language": "python",
   "name": "conda-env-pytorch_p36-py"
  },
  "language_info": {
   "codemirror_mode": {
    "name": "ipython",
    "version": 3
   },
   "file_extension": ".py",
   "mimetype": "text/x-python",
   "name": "python",
   "nbconvert_exporter": "python",
   "pygments_lexer": "ipython3",
   "version": "3.6.5"
  }
 },
 "nbformat": 4,
 "nbformat_minor": 2
}
